{
 "cells": [
  {
   "cell_type": "markdown",
   "metadata": {},
   "source": [
    "# IMDB Notebook Project"
   ]
  },
  {
   "cell_type": "code",
   "execution_count": 1,
   "metadata": {},
   "outputs": [],
   "source": [
    "# renders plots inline as output\n",
    "%matplotlib inline\n",
    "\n",
    "# Global installs for required packages\n",
    "import pandas as pd\n",
    "import numpy as np\n",
    "from datetime import date\n",
    "import matplotlib as plt"
   ]
  },
  {
   "cell_type": "markdown",
   "metadata": {},
   "source": [
    "## read in the weather data file with pandas"
   ]
  },
  {
   "cell_type": "code",
   "execution_count": 2,
   "metadata": {},
   "outputs": [
    {
     "data": {
      "text/html": [
       "<div>\n",
       "<style scoped>\n",
       "    .dataframe tbody tr th:only-of-type {\n",
       "        vertical-align: middle;\n",
       "    }\n",
       "\n",
       "    .dataframe tbody tr th {\n",
       "        vertical-align: top;\n",
       "    }\n",
       "\n",
       "    .dataframe thead th {\n",
       "        text-align: right;\n",
       "    }\n",
       "</style>\n",
       "<table border=\"1\" class=\"dataframe\">\n",
       "  <thead>\n",
       "    <tr style=\"text-align: right;\">\n",
       "      <th></th>\n",
       "      <th>color</th>\n",
       "      <th>director_name</th>\n",
       "      <th>num_critic_for_reviews</th>\n",
       "      <th>duration</th>\n",
       "      <th>director_facebook_likes</th>\n",
       "      <th>actor_3_facebook_likes</th>\n",
       "      <th>actor_2_name</th>\n",
       "      <th>actor_1_facebook_likes</th>\n",
       "      <th>gross</th>\n",
       "      <th>genres</th>\n",
       "      <th>...</th>\n",
       "      <th>num_user_for_reviews</th>\n",
       "      <th>language</th>\n",
       "      <th>country</th>\n",
       "      <th>content_rating</th>\n",
       "      <th>budget</th>\n",
       "      <th>title_year</th>\n",
       "      <th>actor_2_facebook_likes</th>\n",
       "      <th>imdb_score</th>\n",
       "      <th>aspect_ratio</th>\n",
       "      <th>movie_facebook_likes</th>\n",
       "    </tr>\n",
       "  </thead>\n",
       "  <tbody>\n",
       "    <tr>\n",
       "      <th>0</th>\n",
       "      <td>Color</td>\n",
       "      <td>James Cameron</td>\n",
       "      <td>723.0</td>\n",
       "      <td>178.0</td>\n",
       "      <td>0.0</td>\n",
       "      <td>855.0</td>\n",
       "      <td>Joel David Moore</td>\n",
       "      <td>1000.0</td>\n",
       "      <td>760505847.0</td>\n",
       "      <td>Action|Adventure|Fantasy|Sci-Fi</td>\n",
       "      <td>...</td>\n",
       "      <td>3054.0</td>\n",
       "      <td>English</td>\n",
       "      <td>USA</td>\n",
       "      <td>PG-13</td>\n",
       "      <td>237000000.0</td>\n",
       "      <td>2009.0</td>\n",
       "      <td>936.0</td>\n",
       "      <td>7.9</td>\n",
       "      <td>1.78</td>\n",
       "      <td>33000</td>\n",
       "    </tr>\n",
       "    <tr>\n",
       "      <th>1</th>\n",
       "      <td>Color</td>\n",
       "      <td>Gore Verbinski</td>\n",
       "      <td>302.0</td>\n",
       "      <td>169.0</td>\n",
       "      <td>563.0</td>\n",
       "      <td>1000.0</td>\n",
       "      <td>Orlando Bloom</td>\n",
       "      <td>40000.0</td>\n",
       "      <td>309404152.0</td>\n",
       "      <td>Action|Adventure|Fantasy</td>\n",
       "      <td>...</td>\n",
       "      <td>1238.0</td>\n",
       "      <td>English</td>\n",
       "      <td>USA</td>\n",
       "      <td>PG-13</td>\n",
       "      <td>300000000.0</td>\n",
       "      <td>2007.0</td>\n",
       "      <td>5000.0</td>\n",
       "      <td>7.1</td>\n",
       "      <td>2.35</td>\n",
       "      <td>0</td>\n",
       "    </tr>\n",
       "    <tr>\n",
       "      <th>2</th>\n",
       "      <td>Color</td>\n",
       "      <td>Sam Mendes</td>\n",
       "      <td>602.0</td>\n",
       "      <td>148.0</td>\n",
       "      <td>0.0</td>\n",
       "      <td>161.0</td>\n",
       "      <td>Rory Kinnear</td>\n",
       "      <td>11000.0</td>\n",
       "      <td>200074175.0</td>\n",
       "      <td>Action|Adventure|Thriller</td>\n",
       "      <td>...</td>\n",
       "      <td>994.0</td>\n",
       "      <td>English</td>\n",
       "      <td>UK</td>\n",
       "      <td>PG-13</td>\n",
       "      <td>245000000.0</td>\n",
       "      <td>2015.0</td>\n",
       "      <td>393.0</td>\n",
       "      <td>6.8</td>\n",
       "      <td>2.35</td>\n",
       "      <td>85000</td>\n",
       "    </tr>\n",
       "    <tr>\n",
       "      <th>3</th>\n",
       "      <td>Color</td>\n",
       "      <td>Christopher Nolan</td>\n",
       "      <td>813.0</td>\n",
       "      <td>164.0</td>\n",
       "      <td>22000.0</td>\n",
       "      <td>23000.0</td>\n",
       "      <td>Christian Bale</td>\n",
       "      <td>27000.0</td>\n",
       "      <td>448130642.0</td>\n",
       "      <td>Action|Thriller</td>\n",
       "      <td>...</td>\n",
       "      <td>2701.0</td>\n",
       "      <td>English</td>\n",
       "      <td>USA</td>\n",
       "      <td>PG-13</td>\n",
       "      <td>250000000.0</td>\n",
       "      <td>2012.0</td>\n",
       "      <td>23000.0</td>\n",
       "      <td>8.5</td>\n",
       "      <td>2.35</td>\n",
       "      <td>164000</td>\n",
       "    </tr>\n",
       "    <tr>\n",
       "      <th>4</th>\n",
       "      <td>NaN</td>\n",
       "      <td>Doug Walker</td>\n",
       "      <td>NaN</td>\n",
       "      <td>NaN</td>\n",
       "      <td>131.0</td>\n",
       "      <td>NaN</td>\n",
       "      <td>Rob Walker</td>\n",
       "      <td>131.0</td>\n",
       "      <td>NaN</td>\n",
       "      <td>Documentary</td>\n",
       "      <td>...</td>\n",
       "      <td>NaN</td>\n",
       "      <td>NaN</td>\n",
       "      <td>NaN</td>\n",
       "      <td>NaN</td>\n",
       "      <td>NaN</td>\n",
       "      <td>NaN</td>\n",
       "      <td>12.0</td>\n",
       "      <td>7.1</td>\n",
       "      <td>NaN</td>\n",
       "      <td>0</td>\n",
       "    </tr>\n",
       "    <tr>\n",
       "      <th>5</th>\n",
       "      <td>Color</td>\n",
       "      <td>Andrew Stanton</td>\n",
       "      <td>462.0</td>\n",
       "      <td>132.0</td>\n",
       "      <td>475.0</td>\n",
       "      <td>530.0</td>\n",
       "      <td>Samantha Morton</td>\n",
       "      <td>640.0</td>\n",
       "      <td>73058679.0</td>\n",
       "      <td>Action|Adventure|Sci-Fi</td>\n",
       "      <td>...</td>\n",
       "      <td>738.0</td>\n",
       "      <td>English</td>\n",
       "      <td>USA</td>\n",
       "      <td>PG-13</td>\n",
       "      <td>263700000.0</td>\n",
       "      <td>2012.0</td>\n",
       "      <td>632.0</td>\n",
       "      <td>6.6</td>\n",
       "      <td>2.35</td>\n",
       "      <td>24000</td>\n",
       "    </tr>\n",
       "    <tr>\n",
       "      <th>6</th>\n",
       "      <td>Color</td>\n",
       "      <td>Sam Raimi</td>\n",
       "      <td>392.0</td>\n",
       "      <td>156.0</td>\n",
       "      <td>0.0</td>\n",
       "      <td>4000.0</td>\n",
       "      <td>James Franco</td>\n",
       "      <td>24000.0</td>\n",
       "      <td>336530303.0</td>\n",
       "      <td>Action|Adventure|Romance</td>\n",
       "      <td>...</td>\n",
       "      <td>1902.0</td>\n",
       "      <td>English</td>\n",
       "      <td>USA</td>\n",
       "      <td>PG-13</td>\n",
       "      <td>258000000.0</td>\n",
       "      <td>2007.0</td>\n",
       "      <td>11000.0</td>\n",
       "      <td>6.2</td>\n",
       "      <td>2.35</td>\n",
       "      <td>0</td>\n",
       "    </tr>\n",
       "    <tr>\n",
       "      <th>7</th>\n",
       "      <td>Color</td>\n",
       "      <td>Nathan Greno</td>\n",
       "      <td>324.0</td>\n",
       "      <td>100.0</td>\n",
       "      <td>15.0</td>\n",
       "      <td>284.0</td>\n",
       "      <td>Donna Murphy</td>\n",
       "      <td>799.0</td>\n",
       "      <td>200807262.0</td>\n",
       "      <td>Adventure|Animation|Comedy|Family|Fantasy|Musi...</td>\n",
       "      <td>...</td>\n",
       "      <td>387.0</td>\n",
       "      <td>English</td>\n",
       "      <td>USA</td>\n",
       "      <td>PG</td>\n",
       "      <td>260000000.0</td>\n",
       "      <td>2010.0</td>\n",
       "      <td>553.0</td>\n",
       "      <td>7.8</td>\n",
       "      <td>1.85</td>\n",
       "      <td>29000</td>\n",
       "    </tr>\n",
       "    <tr>\n",
       "      <th>8</th>\n",
       "      <td>Color</td>\n",
       "      <td>Joss Whedon</td>\n",
       "      <td>635.0</td>\n",
       "      <td>141.0</td>\n",
       "      <td>0.0</td>\n",
       "      <td>19000.0</td>\n",
       "      <td>Robert Downey Jr.</td>\n",
       "      <td>26000.0</td>\n",
       "      <td>458991599.0</td>\n",
       "      <td>Action|Adventure|Sci-Fi</td>\n",
       "      <td>...</td>\n",
       "      <td>1117.0</td>\n",
       "      <td>English</td>\n",
       "      <td>USA</td>\n",
       "      <td>PG-13</td>\n",
       "      <td>250000000.0</td>\n",
       "      <td>2015.0</td>\n",
       "      <td>21000.0</td>\n",
       "      <td>7.5</td>\n",
       "      <td>2.35</td>\n",
       "      <td>118000</td>\n",
       "    </tr>\n",
       "    <tr>\n",
       "      <th>9</th>\n",
       "      <td>Color</td>\n",
       "      <td>David Yates</td>\n",
       "      <td>375.0</td>\n",
       "      <td>153.0</td>\n",
       "      <td>282.0</td>\n",
       "      <td>10000.0</td>\n",
       "      <td>Daniel Radcliffe</td>\n",
       "      <td>25000.0</td>\n",
       "      <td>301956980.0</td>\n",
       "      <td>Adventure|Family|Fantasy|Mystery</td>\n",
       "      <td>...</td>\n",
       "      <td>973.0</td>\n",
       "      <td>English</td>\n",
       "      <td>UK</td>\n",
       "      <td>PG</td>\n",
       "      <td>250000000.0</td>\n",
       "      <td>2009.0</td>\n",
       "      <td>11000.0</td>\n",
       "      <td>7.5</td>\n",
       "      <td>2.35</td>\n",
       "      <td>10000</td>\n",
       "    </tr>\n",
       "    <tr>\n",
       "      <th>10</th>\n",
       "      <td>Color</td>\n",
       "      <td>Zack Snyder</td>\n",
       "      <td>673.0</td>\n",
       "      <td>183.0</td>\n",
       "      <td>0.0</td>\n",
       "      <td>2000.0</td>\n",
       "      <td>Lauren Cohan</td>\n",
       "      <td>15000.0</td>\n",
       "      <td>330249062.0</td>\n",
       "      <td>Action|Adventure|Sci-Fi</td>\n",
       "      <td>...</td>\n",
       "      <td>3018.0</td>\n",
       "      <td>English</td>\n",
       "      <td>USA</td>\n",
       "      <td>PG-13</td>\n",
       "      <td>250000000.0</td>\n",
       "      <td>2016.0</td>\n",
       "      <td>4000.0</td>\n",
       "      <td>6.9</td>\n",
       "      <td>2.35</td>\n",
       "      <td>197000</td>\n",
       "    </tr>\n",
       "    <tr>\n",
       "      <th>11</th>\n",
       "      <td>Color</td>\n",
       "      <td>Bryan Singer</td>\n",
       "      <td>434.0</td>\n",
       "      <td>169.0</td>\n",
       "      <td>0.0</td>\n",
       "      <td>903.0</td>\n",
       "      <td>Marlon Brando</td>\n",
       "      <td>18000.0</td>\n",
       "      <td>200069408.0</td>\n",
       "      <td>Action|Adventure|Sci-Fi</td>\n",
       "      <td>...</td>\n",
       "      <td>2367.0</td>\n",
       "      <td>English</td>\n",
       "      <td>USA</td>\n",
       "      <td>PG-13</td>\n",
       "      <td>209000000.0</td>\n",
       "      <td>2006.0</td>\n",
       "      <td>10000.0</td>\n",
       "      <td>6.1</td>\n",
       "      <td>2.35</td>\n",
       "      <td>0</td>\n",
       "    </tr>\n",
       "    <tr>\n",
       "      <th>12</th>\n",
       "      <td>Color</td>\n",
       "      <td>Marc Forster</td>\n",
       "      <td>403.0</td>\n",
       "      <td>106.0</td>\n",
       "      <td>395.0</td>\n",
       "      <td>393.0</td>\n",
       "      <td>Mathieu Amalric</td>\n",
       "      <td>451.0</td>\n",
       "      <td>168368427.0</td>\n",
       "      <td>Action|Adventure</td>\n",
       "      <td>...</td>\n",
       "      <td>1243.0</td>\n",
       "      <td>English</td>\n",
       "      <td>UK</td>\n",
       "      <td>PG-13</td>\n",
       "      <td>200000000.0</td>\n",
       "      <td>2008.0</td>\n",
       "      <td>412.0</td>\n",
       "      <td>6.7</td>\n",
       "      <td>2.35</td>\n",
       "      <td>0</td>\n",
       "    </tr>\n",
       "    <tr>\n",
       "      <th>13</th>\n",
       "      <td>Color</td>\n",
       "      <td>Gore Verbinski</td>\n",
       "      <td>313.0</td>\n",
       "      <td>151.0</td>\n",
       "      <td>563.0</td>\n",
       "      <td>1000.0</td>\n",
       "      <td>Orlando Bloom</td>\n",
       "      <td>40000.0</td>\n",
       "      <td>423032628.0</td>\n",
       "      <td>Action|Adventure|Fantasy</td>\n",
       "      <td>...</td>\n",
       "      <td>1832.0</td>\n",
       "      <td>English</td>\n",
       "      <td>USA</td>\n",
       "      <td>PG-13</td>\n",
       "      <td>225000000.0</td>\n",
       "      <td>2006.0</td>\n",
       "      <td>5000.0</td>\n",
       "      <td>7.3</td>\n",
       "      <td>2.35</td>\n",
       "      <td>5000</td>\n",
       "    </tr>\n",
       "    <tr>\n",
       "      <th>14</th>\n",
       "      <td>Color</td>\n",
       "      <td>Gore Verbinski</td>\n",
       "      <td>450.0</td>\n",
       "      <td>150.0</td>\n",
       "      <td>563.0</td>\n",
       "      <td>1000.0</td>\n",
       "      <td>Ruth Wilson</td>\n",
       "      <td>40000.0</td>\n",
       "      <td>89289910.0</td>\n",
       "      <td>Action|Adventure|Western</td>\n",
       "      <td>...</td>\n",
       "      <td>711.0</td>\n",
       "      <td>English</td>\n",
       "      <td>USA</td>\n",
       "      <td>PG-13</td>\n",
       "      <td>215000000.0</td>\n",
       "      <td>2013.0</td>\n",
       "      <td>2000.0</td>\n",
       "      <td>6.5</td>\n",
       "      <td>2.35</td>\n",
       "      <td>48000</td>\n",
       "    </tr>\n",
       "    <tr>\n",
       "      <th>15</th>\n",
       "      <td>Color</td>\n",
       "      <td>Zack Snyder</td>\n",
       "      <td>733.0</td>\n",
       "      <td>143.0</td>\n",
       "      <td>0.0</td>\n",
       "      <td>748.0</td>\n",
       "      <td>Christopher Meloni</td>\n",
       "      <td>15000.0</td>\n",
       "      <td>291021565.0</td>\n",
       "      <td>Action|Adventure|Fantasy|Sci-Fi</td>\n",
       "      <td>...</td>\n",
       "      <td>2536.0</td>\n",
       "      <td>English</td>\n",
       "      <td>USA</td>\n",
       "      <td>PG-13</td>\n",
       "      <td>225000000.0</td>\n",
       "      <td>2013.0</td>\n",
       "      <td>3000.0</td>\n",
       "      <td>7.2</td>\n",
       "      <td>2.35</td>\n",
       "      <td>118000</td>\n",
       "    </tr>\n",
       "    <tr>\n",
       "      <th>16</th>\n",
       "      <td>Color</td>\n",
       "      <td>Andrew Adamson</td>\n",
       "      <td>258.0</td>\n",
       "      <td>150.0</td>\n",
       "      <td>80.0</td>\n",
       "      <td>201.0</td>\n",
       "      <td>Pierfrancesco Favino</td>\n",
       "      <td>22000.0</td>\n",
       "      <td>141614023.0</td>\n",
       "      <td>Action|Adventure|Family|Fantasy</td>\n",
       "      <td>...</td>\n",
       "      <td>438.0</td>\n",
       "      <td>English</td>\n",
       "      <td>USA</td>\n",
       "      <td>PG</td>\n",
       "      <td>225000000.0</td>\n",
       "      <td>2008.0</td>\n",
       "      <td>216.0</td>\n",
       "      <td>6.6</td>\n",
       "      <td>2.35</td>\n",
       "      <td>0</td>\n",
       "    </tr>\n",
       "    <tr>\n",
       "      <th>17</th>\n",
       "      <td>Color</td>\n",
       "      <td>Joss Whedon</td>\n",
       "      <td>703.0</td>\n",
       "      <td>173.0</td>\n",
       "      <td>0.0</td>\n",
       "      <td>19000.0</td>\n",
       "      <td>Robert Downey Jr.</td>\n",
       "      <td>26000.0</td>\n",
       "      <td>623279547.0</td>\n",
       "      <td>Action|Adventure|Sci-Fi</td>\n",
       "      <td>...</td>\n",
       "      <td>1722.0</td>\n",
       "      <td>English</td>\n",
       "      <td>USA</td>\n",
       "      <td>PG-13</td>\n",
       "      <td>220000000.0</td>\n",
       "      <td>2012.0</td>\n",
       "      <td>21000.0</td>\n",
       "      <td>8.1</td>\n",
       "      <td>1.85</td>\n",
       "      <td>123000</td>\n",
       "    </tr>\n",
       "    <tr>\n",
       "      <th>18</th>\n",
       "      <td>Color</td>\n",
       "      <td>Rob Marshall</td>\n",
       "      <td>448.0</td>\n",
       "      <td>136.0</td>\n",
       "      <td>252.0</td>\n",
       "      <td>1000.0</td>\n",
       "      <td>Sam Claflin</td>\n",
       "      <td>40000.0</td>\n",
       "      <td>241063875.0</td>\n",
       "      <td>Action|Adventure|Fantasy</td>\n",
       "      <td>...</td>\n",
       "      <td>484.0</td>\n",
       "      <td>English</td>\n",
       "      <td>USA</td>\n",
       "      <td>PG-13</td>\n",
       "      <td>250000000.0</td>\n",
       "      <td>2011.0</td>\n",
       "      <td>11000.0</td>\n",
       "      <td>6.7</td>\n",
       "      <td>2.35</td>\n",
       "      <td>58000</td>\n",
       "    </tr>\n",
       "    <tr>\n",
       "      <th>19</th>\n",
       "      <td>Color</td>\n",
       "      <td>Barry Sonnenfeld</td>\n",
       "      <td>451.0</td>\n",
       "      <td>106.0</td>\n",
       "      <td>188.0</td>\n",
       "      <td>718.0</td>\n",
       "      <td>Michael Stuhlbarg</td>\n",
       "      <td>10000.0</td>\n",
       "      <td>179020854.0</td>\n",
       "      <td>Action|Adventure|Comedy|Family|Fantasy|Sci-Fi</td>\n",
       "      <td>...</td>\n",
       "      <td>341.0</td>\n",
       "      <td>English</td>\n",
       "      <td>USA</td>\n",
       "      <td>PG-13</td>\n",
       "      <td>225000000.0</td>\n",
       "      <td>2012.0</td>\n",
       "      <td>816.0</td>\n",
       "      <td>6.8</td>\n",
       "      <td>1.85</td>\n",
       "      <td>40000</td>\n",
       "    </tr>\n",
       "    <tr>\n",
       "      <th>20</th>\n",
       "      <td>Color</td>\n",
       "      <td>Peter Jackson</td>\n",
       "      <td>422.0</td>\n",
       "      <td>164.0</td>\n",
       "      <td>0.0</td>\n",
       "      <td>773.0</td>\n",
       "      <td>Adam Brown</td>\n",
       "      <td>5000.0</td>\n",
       "      <td>255108370.0</td>\n",
       "      <td>Adventure|Fantasy</td>\n",
       "      <td>...</td>\n",
       "      <td>802.0</td>\n",
       "      <td>English</td>\n",
       "      <td>New Zealand</td>\n",
       "      <td>PG-13</td>\n",
       "      <td>250000000.0</td>\n",
       "      <td>2014.0</td>\n",
       "      <td>972.0</td>\n",
       "      <td>7.5</td>\n",
       "      <td>2.35</td>\n",
       "      <td>65000</td>\n",
       "    </tr>\n",
       "    <tr>\n",
       "      <th>21</th>\n",
       "      <td>Color</td>\n",
       "      <td>Marc Webb</td>\n",
       "      <td>599.0</td>\n",
       "      <td>153.0</td>\n",
       "      <td>464.0</td>\n",
       "      <td>963.0</td>\n",
       "      <td>Andrew Garfield</td>\n",
       "      <td>15000.0</td>\n",
       "      <td>262030663.0</td>\n",
       "      <td>Action|Adventure|Fantasy</td>\n",
       "      <td>...</td>\n",
       "      <td>1225.0</td>\n",
       "      <td>English</td>\n",
       "      <td>USA</td>\n",
       "      <td>PG-13</td>\n",
       "      <td>230000000.0</td>\n",
       "      <td>2012.0</td>\n",
       "      <td>10000.0</td>\n",
       "      <td>7.0</td>\n",
       "      <td>2.35</td>\n",
       "      <td>56000</td>\n",
       "    </tr>\n",
       "    <tr>\n",
       "      <th>22</th>\n",
       "      <td>Color</td>\n",
       "      <td>Ridley Scott</td>\n",
       "      <td>343.0</td>\n",
       "      <td>156.0</td>\n",
       "      <td>0.0</td>\n",
       "      <td>738.0</td>\n",
       "      <td>William Hurt</td>\n",
       "      <td>891.0</td>\n",
       "      <td>105219735.0</td>\n",
       "      <td>Action|Adventure|Drama|History</td>\n",
       "      <td>...</td>\n",
       "      <td>546.0</td>\n",
       "      <td>English</td>\n",
       "      <td>USA</td>\n",
       "      <td>PG-13</td>\n",
       "      <td>200000000.0</td>\n",
       "      <td>2010.0</td>\n",
       "      <td>882.0</td>\n",
       "      <td>6.7</td>\n",
       "      <td>2.35</td>\n",
       "      <td>17000</td>\n",
       "    </tr>\n",
       "    <tr>\n",
       "      <th>23</th>\n",
       "      <td>Color</td>\n",
       "      <td>Peter Jackson</td>\n",
       "      <td>509.0</td>\n",
       "      <td>186.0</td>\n",
       "      <td>0.0</td>\n",
       "      <td>773.0</td>\n",
       "      <td>Adam Brown</td>\n",
       "      <td>5000.0</td>\n",
       "      <td>258355354.0</td>\n",
       "      <td>Adventure|Fantasy</td>\n",
       "      <td>...</td>\n",
       "      <td>951.0</td>\n",
       "      <td>English</td>\n",
       "      <td>USA</td>\n",
       "      <td>PG-13</td>\n",
       "      <td>225000000.0</td>\n",
       "      <td>2013.0</td>\n",
       "      <td>972.0</td>\n",
       "      <td>7.9</td>\n",
       "      <td>2.35</td>\n",
       "      <td>83000</td>\n",
       "    </tr>\n",
       "    <tr>\n",
       "      <th>24</th>\n",
       "      <td>Color</td>\n",
       "      <td>Chris Weitz</td>\n",
       "      <td>251.0</td>\n",
       "      <td>113.0</td>\n",
       "      <td>129.0</td>\n",
       "      <td>1000.0</td>\n",
       "      <td>Eva Green</td>\n",
       "      <td>16000.0</td>\n",
       "      <td>70083519.0</td>\n",
       "      <td>Adventure|Family|Fantasy</td>\n",
       "      <td>...</td>\n",
       "      <td>666.0</td>\n",
       "      <td>English</td>\n",
       "      <td>USA</td>\n",
       "      <td>PG-13</td>\n",
       "      <td>180000000.0</td>\n",
       "      <td>2007.0</td>\n",
       "      <td>6000.0</td>\n",
       "      <td>6.1</td>\n",
       "      <td>2.35</td>\n",
       "      <td>0</td>\n",
       "    </tr>\n",
       "    <tr>\n",
       "      <th>25</th>\n",
       "      <td>Color</td>\n",
       "      <td>Peter Jackson</td>\n",
       "      <td>446.0</td>\n",
       "      <td>201.0</td>\n",
       "      <td>0.0</td>\n",
       "      <td>84.0</td>\n",
       "      <td>Thomas Kretschmann</td>\n",
       "      <td>6000.0</td>\n",
       "      <td>218051260.0</td>\n",
       "      <td>Action|Adventure|Drama|Romance</td>\n",
       "      <td>...</td>\n",
       "      <td>2618.0</td>\n",
       "      <td>English</td>\n",
       "      <td>New Zealand</td>\n",
       "      <td>PG-13</td>\n",
       "      <td>207000000.0</td>\n",
       "      <td>2005.0</td>\n",
       "      <td>919.0</td>\n",
       "      <td>7.2</td>\n",
       "      <td>2.35</td>\n",
       "      <td>0</td>\n",
       "    </tr>\n",
       "    <tr>\n",
       "      <th>26</th>\n",
       "      <td>Color</td>\n",
       "      <td>James Cameron</td>\n",
       "      <td>315.0</td>\n",
       "      <td>194.0</td>\n",
       "      <td>0.0</td>\n",
       "      <td>794.0</td>\n",
       "      <td>Kate Winslet</td>\n",
       "      <td>29000.0</td>\n",
       "      <td>658672302.0</td>\n",
       "      <td>Drama|Romance</td>\n",
       "      <td>...</td>\n",
       "      <td>2528.0</td>\n",
       "      <td>English</td>\n",
       "      <td>USA</td>\n",
       "      <td>PG-13</td>\n",
       "      <td>200000000.0</td>\n",
       "      <td>1997.0</td>\n",
       "      <td>14000.0</td>\n",
       "      <td>7.7</td>\n",
       "      <td>2.35</td>\n",
       "      <td>26000</td>\n",
       "    </tr>\n",
       "    <tr>\n",
       "      <th>27</th>\n",
       "      <td>Color</td>\n",
       "      <td>Anthony Russo</td>\n",
       "      <td>516.0</td>\n",
       "      <td>147.0</td>\n",
       "      <td>94.0</td>\n",
       "      <td>11000.0</td>\n",
       "      <td>Scarlett Johansson</td>\n",
       "      <td>21000.0</td>\n",
       "      <td>407197282.0</td>\n",
       "      <td>Action|Adventure|Sci-Fi</td>\n",
       "      <td>...</td>\n",
       "      <td>1022.0</td>\n",
       "      <td>English</td>\n",
       "      <td>USA</td>\n",
       "      <td>PG-13</td>\n",
       "      <td>250000000.0</td>\n",
       "      <td>2016.0</td>\n",
       "      <td>19000.0</td>\n",
       "      <td>8.2</td>\n",
       "      <td>2.35</td>\n",
       "      <td>72000</td>\n",
       "    </tr>\n",
       "    <tr>\n",
       "      <th>28</th>\n",
       "      <td>Color</td>\n",
       "      <td>Peter Berg</td>\n",
       "      <td>377.0</td>\n",
       "      <td>131.0</td>\n",
       "      <td>532.0</td>\n",
       "      <td>627.0</td>\n",
       "      <td>Alexander Skarsgård</td>\n",
       "      <td>14000.0</td>\n",
       "      <td>65173160.0</td>\n",
       "      <td>Action|Adventure|Sci-Fi|Thriller</td>\n",
       "      <td>...</td>\n",
       "      <td>751.0</td>\n",
       "      <td>English</td>\n",
       "      <td>USA</td>\n",
       "      <td>PG-13</td>\n",
       "      <td>209000000.0</td>\n",
       "      <td>2012.0</td>\n",
       "      <td>10000.0</td>\n",
       "      <td>5.9</td>\n",
       "      <td>2.35</td>\n",
       "      <td>44000</td>\n",
       "    </tr>\n",
       "    <tr>\n",
       "      <th>29</th>\n",
       "      <td>Color</td>\n",
       "      <td>Colin Trevorrow</td>\n",
       "      <td>644.0</td>\n",
       "      <td>124.0</td>\n",
       "      <td>365.0</td>\n",
       "      <td>1000.0</td>\n",
       "      <td>Judy Greer</td>\n",
       "      <td>3000.0</td>\n",
       "      <td>652177271.0</td>\n",
       "      <td>Action|Adventure|Sci-Fi|Thriller</td>\n",
       "      <td>...</td>\n",
       "      <td>1290.0</td>\n",
       "      <td>English</td>\n",
       "      <td>USA</td>\n",
       "      <td>PG-13</td>\n",
       "      <td>150000000.0</td>\n",
       "      <td>2015.0</td>\n",
       "      <td>2000.0</td>\n",
       "      <td>7.0</td>\n",
       "      <td>2.00</td>\n",
       "      <td>150000</td>\n",
       "    </tr>\n",
       "  </tbody>\n",
       "</table>\n",
       "<p>30 rows × 28 columns</p>\n",
       "</div>"
      ],
      "text/plain": [
       "    color      director_name  num_critic_for_reviews  duration  \\\n",
       "0   Color      James Cameron                   723.0     178.0   \n",
       "1   Color     Gore Verbinski                   302.0     169.0   \n",
       "2   Color         Sam Mendes                   602.0     148.0   \n",
       "3   Color  Christopher Nolan                   813.0     164.0   \n",
       "4     NaN        Doug Walker                     NaN       NaN   \n",
       "5   Color     Andrew Stanton                   462.0     132.0   \n",
       "6   Color          Sam Raimi                   392.0     156.0   \n",
       "7   Color       Nathan Greno                   324.0     100.0   \n",
       "8   Color        Joss Whedon                   635.0     141.0   \n",
       "9   Color        David Yates                   375.0     153.0   \n",
       "10  Color        Zack Snyder                   673.0     183.0   \n",
       "11  Color       Bryan Singer                   434.0     169.0   \n",
       "12  Color       Marc Forster                   403.0     106.0   \n",
       "13  Color     Gore Verbinski                   313.0     151.0   \n",
       "14  Color     Gore Verbinski                   450.0     150.0   \n",
       "15  Color        Zack Snyder                   733.0     143.0   \n",
       "16  Color     Andrew Adamson                   258.0     150.0   \n",
       "17  Color        Joss Whedon                   703.0     173.0   \n",
       "18  Color       Rob Marshall                   448.0     136.0   \n",
       "19  Color   Barry Sonnenfeld                   451.0     106.0   \n",
       "20  Color      Peter Jackson                   422.0     164.0   \n",
       "21  Color          Marc Webb                   599.0     153.0   \n",
       "22  Color       Ridley Scott                   343.0     156.0   \n",
       "23  Color      Peter Jackson                   509.0     186.0   \n",
       "24  Color        Chris Weitz                   251.0     113.0   \n",
       "25  Color      Peter Jackson                   446.0     201.0   \n",
       "26  Color      James Cameron                   315.0     194.0   \n",
       "27  Color      Anthony Russo                   516.0     147.0   \n",
       "28  Color         Peter Berg                   377.0     131.0   \n",
       "29  Color    Colin Trevorrow                   644.0     124.0   \n",
       "\n",
       "    director_facebook_likes  actor_3_facebook_likes          actor_2_name  \\\n",
       "0                       0.0                   855.0      Joel David Moore   \n",
       "1                     563.0                  1000.0         Orlando Bloom   \n",
       "2                       0.0                   161.0          Rory Kinnear   \n",
       "3                   22000.0                 23000.0        Christian Bale   \n",
       "4                     131.0                     NaN            Rob Walker   \n",
       "5                     475.0                   530.0       Samantha Morton   \n",
       "6                       0.0                  4000.0          James Franco   \n",
       "7                      15.0                   284.0          Donna Murphy   \n",
       "8                       0.0                 19000.0     Robert Downey Jr.   \n",
       "9                     282.0                 10000.0      Daniel Radcliffe   \n",
       "10                      0.0                  2000.0          Lauren Cohan   \n",
       "11                      0.0                   903.0         Marlon Brando   \n",
       "12                    395.0                   393.0       Mathieu Amalric   \n",
       "13                    563.0                  1000.0         Orlando Bloom   \n",
       "14                    563.0                  1000.0           Ruth Wilson   \n",
       "15                      0.0                   748.0    Christopher Meloni   \n",
       "16                     80.0                   201.0  Pierfrancesco Favino   \n",
       "17                      0.0                 19000.0     Robert Downey Jr.   \n",
       "18                    252.0                  1000.0           Sam Claflin   \n",
       "19                    188.0                   718.0     Michael Stuhlbarg   \n",
       "20                      0.0                   773.0            Adam Brown   \n",
       "21                    464.0                   963.0       Andrew Garfield   \n",
       "22                      0.0                   738.0          William Hurt   \n",
       "23                      0.0                   773.0            Adam Brown   \n",
       "24                    129.0                  1000.0             Eva Green   \n",
       "25                      0.0                    84.0    Thomas Kretschmann   \n",
       "26                      0.0                   794.0          Kate Winslet   \n",
       "27                     94.0                 11000.0    Scarlett Johansson   \n",
       "28                    532.0                   627.0   Alexander Skarsgård   \n",
       "29                    365.0                  1000.0            Judy Greer   \n",
       "\n",
       "    actor_1_facebook_likes        gross  \\\n",
       "0                   1000.0  760505847.0   \n",
       "1                  40000.0  309404152.0   \n",
       "2                  11000.0  200074175.0   \n",
       "3                  27000.0  448130642.0   \n",
       "4                    131.0          NaN   \n",
       "5                    640.0   73058679.0   \n",
       "6                  24000.0  336530303.0   \n",
       "7                    799.0  200807262.0   \n",
       "8                  26000.0  458991599.0   \n",
       "9                  25000.0  301956980.0   \n",
       "10                 15000.0  330249062.0   \n",
       "11                 18000.0  200069408.0   \n",
       "12                   451.0  168368427.0   \n",
       "13                 40000.0  423032628.0   \n",
       "14                 40000.0   89289910.0   \n",
       "15                 15000.0  291021565.0   \n",
       "16                 22000.0  141614023.0   \n",
       "17                 26000.0  623279547.0   \n",
       "18                 40000.0  241063875.0   \n",
       "19                 10000.0  179020854.0   \n",
       "20                  5000.0  255108370.0   \n",
       "21                 15000.0  262030663.0   \n",
       "22                   891.0  105219735.0   \n",
       "23                  5000.0  258355354.0   \n",
       "24                 16000.0   70083519.0   \n",
       "25                  6000.0  218051260.0   \n",
       "26                 29000.0  658672302.0   \n",
       "27                 21000.0  407197282.0   \n",
       "28                 14000.0   65173160.0   \n",
       "29                  3000.0  652177271.0   \n",
       "\n",
       "                                               genres         ...           \\\n",
       "0                     Action|Adventure|Fantasy|Sci-Fi         ...            \n",
       "1                            Action|Adventure|Fantasy         ...            \n",
       "2                           Action|Adventure|Thriller         ...            \n",
       "3                                     Action|Thriller         ...            \n",
       "4                                         Documentary         ...            \n",
       "5                             Action|Adventure|Sci-Fi         ...            \n",
       "6                            Action|Adventure|Romance         ...            \n",
       "7   Adventure|Animation|Comedy|Family|Fantasy|Musi...         ...            \n",
       "8                             Action|Adventure|Sci-Fi         ...            \n",
       "9                    Adventure|Family|Fantasy|Mystery         ...            \n",
       "10                            Action|Adventure|Sci-Fi         ...            \n",
       "11                            Action|Adventure|Sci-Fi         ...            \n",
       "12                                   Action|Adventure         ...            \n",
       "13                           Action|Adventure|Fantasy         ...            \n",
       "14                           Action|Adventure|Western         ...            \n",
       "15                    Action|Adventure|Fantasy|Sci-Fi         ...            \n",
       "16                    Action|Adventure|Family|Fantasy         ...            \n",
       "17                            Action|Adventure|Sci-Fi         ...            \n",
       "18                           Action|Adventure|Fantasy         ...            \n",
       "19      Action|Adventure|Comedy|Family|Fantasy|Sci-Fi         ...            \n",
       "20                                  Adventure|Fantasy         ...            \n",
       "21                           Action|Adventure|Fantasy         ...            \n",
       "22                     Action|Adventure|Drama|History         ...            \n",
       "23                                  Adventure|Fantasy         ...            \n",
       "24                           Adventure|Family|Fantasy         ...            \n",
       "25                     Action|Adventure|Drama|Romance         ...            \n",
       "26                                      Drama|Romance         ...            \n",
       "27                            Action|Adventure|Sci-Fi         ...            \n",
       "28                   Action|Adventure|Sci-Fi|Thriller         ...            \n",
       "29                   Action|Adventure|Sci-Fi|Thriller         ...            \n",
       "\n",
       "   num_user_for_reviews language      country  content_rating       budget  \\\n",
       "0                3054.0  English          USA           PG-13  237000000.0   \n",
       "1                1238.0  English          USA           PG-13  300000000.0   \n",
       "2                 994.0  English           UK           PG-13  245000000.0   \n",
       "3                2701.0  English          USA           PG-13  250000000.0   \n",
       "4                   NaN      NaN          NaN             NaN          NaN   \n",
       "5                 738.0  English          USA           PG-13  263700000.0   \n",
       "6                1902.0  English          USA           PG-13  258000000.0   \n",
       "7                 387.0  English          USA              PG  260000000.0   \n",
       "8                1117.0  English          USA           PG-13  250000000.0   \n",
       "9                 973.0  English           UK              PG  250000000.0   \n",
       "10               3018.0  English          USA           PG-13  250000000.0   \n",
       "11               2367.0  English          USA           PG-13  209000000.0   \n",
       "12               1243.0  English           UK           PG-13  200000000.0   \n",
       "13               1832.0  English          USA           PG-13  225000000.0   \n",
       "14                711.0  English          USA           PG-13  215000000.0   \n",
       "15               2536.0  English          USA           PG-13  225000000.0   \n",
       "16                438.0  English          USA              PG  225000000.0   \n",
       "17               1722.0  English          USA           PG-13  220000000.0   \n",
       "18                484.0  English          USA           PG-13  250000000.0   \n",
       "19                341.0  English          USA           PG-13  225000000.0   \n",
       "20                802.0  English  New Zealand           PG-13  250000000.0   \n",
       "21               1225.0  English          USA           PG-13  230000000.0   \n",
       "22                546.0  English          USA           PG-13  200000000.0   \n",
       "23                951.0  English          USA           PG-13  225000000.0   \n",
       "24                666.0  English          USA           PG-13  180000000.0   \n",
       "25               2618.0  English  New Zealand           PG-13  207000000.0   \n",
       "26               2528.0  English          USA           PG-13  200000000.0   \n",
       "27               1022.0  English          USA           PG-13  250000000.0   \n",
       "28                751.0  English          USA           PG-13  209000000.0   \n",
       "29               1290.0  English          USA           PG-13  150000000.0   \n",
       "\n",
       "    title_year actor_2_facebook_likes imdb_score  aspect_ratio  \\\n",
       "0       2009.0                  936.0        7.9          1.78   \n",
       "1       2007.0                 5000.0        7.1          2.35   \n",
       "2       2015.0                  393.0        6.8          2.35   \n",
       "3       2012.0                23000.0        8.5          2.35   \n",
       "4          NaN                   12.0        7.1           NaN   \n",
       "5       2012.0                  632.0        6.6          2.35   \n",
       "6       2007.0                11000.0        6.2          2.35   \n",
       "7       2010.0                  553.0        7.8          1.85   \n",
       "8       2015.0                21000.0        7.5          2.35   \n",
       "9       2009.0                11000.0        7.5          2.35   \n",
       "10      2016.0                 4000.0        6.9          2.35   \n",
       "11      2006.0                10000.0        6.1          2.35   \n",
       "12      2008.0                  412.0        6.7          2.35   \n",
       "13      2006.0                 5000.0        7.3          2.35   \n",
       "14      2013.0                 2000.0        6.5          2.35   \n",
       "15      2013.0                 3000.0        7.2          2.35   \n",
       "16      2008.0                  216.0        6.6          2.35   \n",
       "17      2012.0                21000.0        8.1          1.85   \n",
       "18      2011.0                11000.0        6.7          2.35   \n",
       "19      2012.0                  816.0        6.8          1.85   \n",
       "20      2014.0                  972.0        7.5          2.35   \n",
       "21      2012.0                10000.0        7.0          2.35   \n",
       "22      2010.0                  882.0        6.7          2.35   \n",
       "23      2013.0                  972.0        7.9          2.35   \n",
       "24      2007.0                 6000.0        6.1          2.35   \n",
       "25      2005.0                  919.0        7.2          2.35   \n",
       "26      1997.0                14000.0        7.7          2.35   \n",
       "27      2016.0                19000.0        8.2          2.35   \n",
       "28      2012.0                10000.0        5.9          2.35   \n",
       "29      2015.0                 2000.0        7.0          2.00   \n",
       "\n",
       "   movie_facebook_likes  \n",
       "0                 33000  \n",
       "1                     0  \n",
       "2                 85000  \n",
       "3                164000  \n",
       "4                     0  \n",
       "5                 24000  \n",
       "6                     0  \n",
       "7                 29000  \n",
       "8                118000  \n",
       "9                 10000  \n",
       "10               197000  \n",
       "11                    0  \n",
       "12                    0  \n",
       "13                 5000  \n",
       "14                48000  \n",
       "15               118000  \n",
       "16                    0  \n",
       "17               123000  \n",
       "18                58000  \n",
       "19                40000  \n",
       "20                65000  \n",
       "21                56000  \n",
       "22                17000  \n",
       "23                83000  \n",
       "24                    0  \n",
       "25                    0  \n",
       "26                26000  \n",
       "27                72000  \n",
       "28                44000  \n",
       "29               150000  \n",
       "\n",
       "[30 rows x 28 columns]"
      ]
     },
     "execution_count": 2,
     "metadata": {},
     "output_type": "execute_result"
    }
   ],
   "source": [
    "df = pd.read_csv('./movie_metadata.csv', error_bad_lines=False).drop_duplicates()\n",
    "df.head(30)"
   ]
  },
  {
   "cell_type": "markdown",
   "metadata": {},
   "source": [
    "## What's the probability that a movie was longer than an hour and a half?"
   ]
  },
  {
   "cell_type": "code",
   "execution_count": 3,
   "metadata": {},
   "outputs": [
    {
     "data": {
      "text/plain": [
       "0.8101545253863135"
      ]
     },
     "execution_count": 3,
     "metadata": {},
     "output_type": "execute_result"
    }
   ],
   "source": [
    "(df['duration'][df.duration > 90].count()) / df.duration.dropna().count()"
   ]
  },
  {
   "cell_type": "markdown",
   "metadata": {},
   "source": [
    "## Two Hours?"
   ]
  },
  {
   "cell_type": "code",
   "execution_count": 4,
   "metadata": {},
   "outputs": [
    {
     "data": {
      "text/plain": [
       "0.21312462372065022"
      ]
     },
     "execution_count": 4,
     "metadata": {},
     "output_type": "execute_result"
    }
   ],
   "source": [
    "(df['duration'][df.duration > 120].count()) / df.duration.dropna().count()"
   ]
  },
  {
   "cell_type": "markdown",
   "metadata": {},
   "source": [
    "## What's the probability that a movie was directed by Stephen Spielberg?"
   ]
  },
  {
   "cell_type": "code",
   "execution_count": 5,
   "metadata": {},
   "outputs": [
    {
     "data": {
      "text/plain": [
       "0.005311542390194076"
      ]
     },
     "execution_count": 5,
     "metadata": {},
     "output_type": "execute_result"
    }
   ],
   "source": [
    "df.director_name[df.director_name == 'Steven Spielberg'].count() / df.director_name.dropna().count()"
   ]
  },
  {
   "cell_type": "markdown",
   "metadata": {},
   "source": [
    "## What's the probability that a movie directed by Clint Eastwood will gross under budget?"
   ]
  },
  {
   "cell_type": "code",
   "execution_count": 6,
   "metadata": {},
   "outputs": [
    {
     "name": "stderr",
     "output_type": "stream",
     "text": [
      "/Users/TBone/code_fellows/401/data-science/ENV/lib/python3.6/site-packages/ipykernel_launcher.py:1: UserWarning: Boolean Series key will be reindexed to match DataFrame index.\n",
      "  \"\"\"Entry point for launching an IPython kernel.\n"
     ]
    },
    {
     "data": {
      "text/plain": [
       "0.35"
      ]
     },
     "execution_count": 6,
     "metadata": {},
     "output_type": "execute_result"
    }
   ],
   "source": [
    "clint_eastwood_busts = df[df.director_name == 'Clint Eastwood'][df.gross < df.budget].director_name.count()\n",
    "clint_eastwood_movie_count = df['director_name'][df.director_name == 'Clint Eastwood'].count()\n",
    "clint_eastwood_busts / clint_eastwood_movie_count\n",
    "\n",
    "# df['over_budget'] = df[['gross', 'budget']].apply(lambda x: 1 if (df.gross < df.budget) else 0)\n"
   ]
  },
  {
   "cell_type": "markdown",
   "metadata": {},
   "source": [
    "## What's the probability that a movie generally grossed more than its budget?"
   ]
  },
  {
   "cell_type": "code",
   "execution_count": 7,
   "metadata": {},
   "outputs": [
    {
     "data": {
      "text/plain": [
       "0.492725509214355"
      ]
     },
     "execution_count": 7,
     "metadata": {},
     "output_type": "execute_result"
    }
   ],
   "source": [
    "all_movie_gross_more = df[df.gross > df.budget].gross.count()\n",
    "all_movie_count = df.gross.count()\n",
    "all_movie_gross_more / all_movie_count"
   ]
  },
  {
   "cell_type": "code",
   "execution_count": 8,
   "metadata": {},
   "outputs": [
    {
     "data": {
      "text/plain": [
       "2032"
      ]
     },
     "execution_count": 8,
     "metadata": {},
     "output_type": "execute_result"
    }
   ],
   "source": [
    "all_movie_gross_more"
   ]
  },
  {
   "cell_type": "code",
   "execution_count": 9,
   "metadata": {},
   "outputs": [
    {
     "data": {
      "text/plain": [
       "4124"
      ]
     },
     "execution_count": 9,
     "metadata": {},
     "output_type": "execute_result"
    }
   ],
   "source": [
    "all_movie_count"
   ]
  },
  {
   "cell_type": "markdown",
   "metadata": {},
   "source": [
    "## What's the probability that a movie grossed over the average gross of this data set?\n"
   ]
  },
  {
   "cell_type": "code",
   "execution_count": 10,
   "metadata": {},
   "outputs": [
    {
     "data": {
      "text/plain": [
       "0.31910766246362754"
      ]
     },
     "execution_count": 10,
     "metadata": {},
     "output_type": "execute_result"
    }
   ],
   "source": [
    "avg_gross= df.gross.mean()\n",
    "df[df.gross > avg_gross].gross.count() / df.gross.count()"
   ]
  },
  {
   "cell_type": "code",
   "execution_count": 11,
   "metadata": {},
   "outputs": [],
   "source": [
    "# For ratings we'll consider a movie with at least a 6/10 to be worth renting, if not seeing in theaters. \n",
    "# A false positive would be a movie that was highly-rated but did poorly in the box office (gross < budget). \n",
    "# A false negative would be a movie that was poorly-rated but did great in the box office (gross > budget)."
   ]
  },
  {
   "cell_type": "markdown",
   "metadata": {},
   "source": [
    "## In the IMDB dataset, what are the false positive and false negative rates? Can you provide some examples of each?"
   ]
  },
  {
   "cell_type": "code",
   "execution_count": 12,
   "metadata": {},
   "outputs": [],
   "source": [
    "# False Positive Rate: imdb_score >= 6 and gross < budget"
   ]
  },
  {
   "cell_type": "code",
   "execution_count": 13,
   "metadata": {},
   "outputs": [
    {
     "name": "stderr",
     "output_type": "stream",
     "text": [
      "/Users/TBone/code_fellows/401/data-science/ENV/lib/python3.6/site-packages/ipykernel_launcher.py:1: UserWarning: Boolean Series key will be reindexed to match DataFrame index.\n",
      "  \"\"\"Entry point for launching an IPython kernel.\n"
     ]
    },
    {
     "data": {
      "text/plain": [
       "0.24289715886354543"
      ]
     },
     "execution_count": 13,
     "metadata": {},
     "output_type": "execute_result"
    }
   ],
   "source": [
    "fal_pos_rate = df[df.imdb_score >= 6][df.gross < df.budget].imdb_score.count() / df.imdb_score.count()\n",
    "fal_pos_rate"
   ]
  },
  {
   "cell_type": "code",
   "execution_count": 14,
   "metadata": {
    "scrolled": true
   },
   "outputs": [
    {
     "name": "stderr",
     "output_type": "stream",
     "text": [
      "/Users/TBone/code_fellows/401/data-science/ENV/lib/python3.6/site-packages/ipykernel_launcher.py:1: UserWarning: Boolean Series key will be reindexed to match DataFrame index.\n",
      "  \"\"\"Entry point for launching an IPython kernel.\n"
     ]
    },
    {
     "data": {
      "text/html": [
       "<div>\n",
       "<style scoped>\n",
       "    .dataframe tbody tr th:only-of-type {\n",
       "        vertical-align: middle;\n",
       "    }\n",
       "\n",
       "    .dataframe tbody tr th {\n",
       "        vertical-align: top;\n",
       "    }\n",
       "\n",
       "    .dataframe thead th {\n",
       "        text-align: right;\n",
       "    }\n",
       "</style>\n",
       "<table border=\"1\" class=\"dataframe\">\n",
       "  <thead>\n",
       "    <tr style=\"text-align: right;\">\n",
       "      <th></th>\n",
       "      <th>movie_title</th>\n",
       "      <th>imdb_score</th>\n",
       "    </tr>\n",
       "  </thead>\n",
       "  <tbody>\n",
       "    <tr>\n",
       "      <th>2</th>\n",
       "      <td>Spectre</td>\n",
       "      <td>6.8</td>\n",
       "    </tr>\n",
       "    <tr>\n",
       "      <th>5</th>\n",
       "      <td>John Carter</td>\n",
       "      <td>6.6</td>\n",
       "    </tr>\n",
       "    <tr>\n",
       "      <th>7</th>\n",
       "      <td>Tangled</td>\n",
       "      <td>7.8</td>\n",
       "    </tr>\n",
       "    <tr>\n",
       "      <th>11</th>\n",
       "      <td>Superman Returns</td>\n",
       "      <td>6.1</td>\n",
       "    </tr>\n",
       "    <tr>\n",
       "      <th>12</th>\n",
       "      <td>Quantum of Solace</td>\n",
       "      <td>6.7</td>\n",
       "    </tr>\n",
       "  </tbody>\n",
       "</table>\n",
       "</div>"
      ],
      "text/plain": [
       "           movie_title  imdb_score\n",
       "2             Spectre          6.8\n",
       "5         John Carter          6.6\n",
       "7             Tangled          7.8\n",
       "11   Superman Returns          6.1\n",
       "12  Quantum of Solace          6.7"
      ]
     },
     "execution_count": 14,
     "metadata": {},
     "output_type": "execute_result"
    }
   ],
   "source": [
    "df[df.imdb_score >= 6][df.gross < df.budget][['movie_title', 'imdb_score']].head()"
   ]
  },
  {
   "cell_type": "markdown",
   "metadata": {},
   "source": [
    "## False Negative Rate: imdb_score <= 6 and gross > budget"
   ]
  },
  {
   "cell_type": "code",
   "execution_count": 15,
   "metadata": {},
   "outputs": [
    {
     "name": "stderr",
     "output_type": "stream",
     "text": [
      "/Users/TBone/code_fellows/401/data-science/ENV/lib/python3.6/site-packages/ipykernel_launcher.py:1: UserWarning: Boolean Series key will be reindexed to match DataFrame index.\n",
      "  \"\"\"Entry point for launching an IPython kernel.\n"
     ]
    },
    {
     "data": {
      "text/plain": [
       "0.09223689475790316"
      ]
     },
     "execution_count": 15,
     "metadata": {},
     "output_type": "execute_result"
    }
   ],
   "source": [
    "fal_neg_rate = df[df.imdb_score < 6][df.gross > df.budget].imdb_score.count() / df.imdb_score.count()\n",
    "fal_neg_rate"
   ]
  },
  {
   "cell_type": "code",
   "execution_count": 16,
   "metadata": {},
   "outputs": [
    {
     "name": "stderr",
     "output_type": "stream",
     "text": [
      "/Users/TBone/code_fellows/401/data-science/ENV/lib/python3.6/site-packages/ipykernel_launcher.py:1: UserWarning: Boolean Series key will be reindexed to match DataFrame index.\n",
      "  \"\"\"Entry point for launching an IPython kernel.\n"
     ]
    },
    {
     "data": {
      "text/html": [
       "<div>\n",
       "<style scoped>\n",
       "    .dataframe tbody tr th:only-of-type {\n",
       "        vertical-align: middle;\n",
       "    }\n",
       "\n",
       "    .dataframe tbody tr th {\n",
       "        vertical-align: top;\n",
       "    }\n",
       "\n",
       "    .dataframe thead th {\n",
       "        text-align: right;\n",
       "    }\n",
       "</style>\n",
       "<table border=\"1\" class=\"dataframe\">\n",
       "  <thead>\n",
       "    <tr style=\"text-align: right;\">\n",
       "      <th></th>\n",
       "      <th>color</th>\n",
       "      <th>director_name</th>\n",
       "      <th>num_critic_for_reviews</th>\n",
       "      <th>duration</th>\n",
       "      <th>director_facebook_likes</th>\n",
       "      <th>actor_3_facebook_likes</th>\n",
       "      <th>actor_2_name</th>\n",
       "      <th>actor_1_facebook_likes</th>\n",
       "      <th>gross</th>\n",
       "      <th>genres</th>\n",
       "      <th>...</th>\n",
       "      <th>num_user_for_reviews</th>\n",
       "      <th>language</th>\n",
       "      <th>country</th>\n",
       "      <th>content_rating</th>\n",
       "      <th>budget</th>\n",
       "      <th>title_year</th>\n",
       "      <th>actor_2_facebook_likes</th>\n",
       "      <th>imdb_score</th>\n",
       "      <th>aspect_ratio</th>\n",
       "      <th>movie_facebook_likes</th>\n",
       "    </tr>\n",
       "  </thead>\n",
       "  <tbody>\n",
       "    <tr>\n",
       "      <th>37</th>\n",
       "      <td>Color</td>\n",
       "      <td>Michael Bay</td>\n",
       "      <td>378.0</td>\n",
       "      <td>165.0</td>\n",
       "      <td>0.0</td>\n",
       "      <td>808.0</td>\n",
       "      <td>Sophia Myles</td>\n",
       "      <td>974.0</td>\n",
       "      <td>245428137.0</td>\n",
       "      <td>Action|Adventure|Sci-Fi</td>\n",
       "      <td>...</td>\n",
       "      <td>918.0</td>\n",
       "      <td>English</td>\n",
       "      <td>USA</td>\n",
       "      <td>PG-13</td>\n",
       "      <td>210000000.0</td>\n",
       "      <td>2014.0</td>\n",
       "      <td>956.0</td>\n",
       "      <td>5.7</td>\n",
       "      <td>2.35</td>\n",
       "      <td>56000</td>\n",
       "    </tr>\n",
       "    <tr>\n",
       "      <th>122</th>\n",
       "      <td>Color</td>\n",
       "      <td>Shawn Levy</td>\n",
       "      <td>185.0</td>\n",
       "      <td>105.0</td>\n",
       "      <td>189.0</td>\n",
       "      <td>1000.0</td>\n",
       "      <td>Rami Malek</td>\n",
       "      <td>49000.0</td>\n",
       "      <td>177243721.0</td>\n",
       "      <td>Adventure|Comedy|Family|Fantasy</td>\n",
       "      <td>...</td>\n",
       "      <td>209.0</td>\n",
       "      <td>English</td>\n",
       "      <td>USA</td>\n",
       "      <td>PG</td>\n",
       "      <td>150000000.0</td>\n",
       "      <td>2009.0</td>\n",
       "      <td>3000.0</td>\n",
       "      <td>5.9</td>\n",
       "      <td>2.35</td>\n",
       "      <td>2000</td>\n",
       "    </tr>\n",
       "    <tr>\n",
       "      <th>174</th>\n",
       "      <td>Color</td>\n",
       "      <td>Bill Condon</td>\n",
       "      <td>322.0</td>\n",
       "      <td>115.0</td>\n",
       "      <td>386.0</td>\n",
       "      <td>12000.0</td>\n",
       "      <td>Kristen Stewart</td>\n",
       "      <td>21000.0</td>\n",
       "      <td>292298923.0</td>\n",
       "      <td>Adventure|Drama|Fantasy|Romance</td>\n",
       "      <td>...</td>\n",
       "      <td>329.0</td>\n",
       "      <td>English</td>\n",
       "      <td>USA</td>\n",
       "      <td>PG-13</td>\n",
       "      <td>120000000.0</td>\n",
       "      <td>2012.0</td>\n",
       "      <td>17000.0</td>\n",
       "      <td>5.5</td>\n",
       "      <td>2.35</td>\n",
       "      <td>65000</td>\n",
       "    </tr>\n",
       "    <tr>\n",
       "      <th>213</th>\n",
       "      <td>Color</td>\n",
       "      <td>Louis Leterrier</td>\n",
       "      <td>344.0</td>\n",
       "      <td>106.0</td>\n",
       "      <td>255.0</td>\n",
       "      <td>850.0</td>\n",
       "      <td>Jason Flemyng</td>\n",
       "      <td>14000.0</td>\n",
       "      <td>163192114.0</td>\n",
       "      <td>Action|Adventure|Fantasy</td>\n",
       "      <td>...</td>\n",
       "      <td>637.0</td>\n",
       "      <td>English</td>\n",
       "      <td>USA</td>\n",
       "      <td>PG-13</td>\n",
       "      <td>125000000.0</td>\n",
       "      <td>2010.0</td>\n",
       "      <td>1000.0</td>\n",
       "      <td>5.8</td>\n",
       "      <td>2.35</td>\n",
       "      <td>15000</td>\n",
       "    </tr>\n",
       "    <tr>\n",
       "      <th>222</th>\n",
       "      <td>Color</td>\n",
       "      <td>Tim Story</td>\n",
       "      <td>262.0</td>\n",
       "      <td>92.0</td>\n",
       "      <td>167.0</td>\n",
       "      <td>702.0</td>\n",
       "      <td>Ioan Gruffudd</td>\n",
       "      <td>11000.0</td>\n",
       "      <td>131920333.0</td>\n",
       "      <td>Action|Adventure|Sci-Fi|Thriller</td>\n",
       "      <td>...</td>\n",
       "      <td>436.0</td>\n",
       "      <td>English</td>\n",
       "      <td>USA</td>\n",
       "      <td>PG</td>\n",
       "      <td>130000000.0</td>\n",
       "      <td>2007.0</td>\n",
       "      <td>2000.0</td>\n",
       "      <td>5.6</td>\n",
       "      <td>2.35</td>\n",
       "      <td>0</td>\n",
       "    </tr>\n",
       "  </tbody>\n",
       "</table>\n",
       "<p>5 rows × 28 columns</p>\n",
       "</div>"
      ],
      "text/plain": [
       "     color    director_name  num_critic_for_reviews  duration  \\\n",
       "37   Color      Michael Bay                   378.0     165.0   \n",
       "122  Color       Shawn Levy                   185.0     105.0   \n",
       "174  Color      Bill Condon                   322.0     115.0   \n",
       "213  Color  Louis Leterrier                   344.0     106.0   \n",
       "222  Color        Tim Story                   262.0      92.0   \n",
       "\n",
       "     director_facebook_likes  actor_3_facebook_likes     actor_2_name  \\\n",
       "37                       0.0                   808.0     Sophia Myles   \n",
       "122                    189.0                  1000.0       Rami Malek   \n",
       "174                    386.0                 12000.0  Kristen Stewart   \n",
       "213                    255.0                   850.0    Jason Flemyng   \n",
       "222                    167.0                   702.0    Ioan Gruffudd   \n",
       "\n",
       "     actor_1_facebook_likes        gross                            genres  \\\n",
       "37                    974.0  245428137.0           Action|Adventure|Sci-Fi   \n",
       "122                 49000.0  177243721.0   Adventure|Comedy|Family|Fantasy   \n",
       "174                 21000.0  292298923.0   Adventure|Drama|Fantasy|Romance   \n",
       "213                 14000.0  163192114.0          Action|Adventure|Fantasy   \n",
       "222                 11000.0  131920333.0  Action|Adventure|Sci-Fi|Thriller   \n",
       "\n",
       "            ...          num_user_for_reviews language  country  \\\n",
       "37          ...                         918.0  English      USA   \n",
       "122         ...                         209.0  English      USA   \n",
       "174         ...                         329.0  English      USA   \n",
       "213         ...                         637.0  English      USA   \n",
       "222         ...                         436.0  English      USA   \n",
       "\n",
       "     content_rating       budget  title_year actor_2_facebook_likes  \\\n",
       "37            PG-13  210000000.0      2014.0                  956.0   \n",
       "122              PG  150000000.0      2009.0                 3000.0   \n",
       "174           PG-13  120000000.0      2012.0                17000.0   \n",
       "213           PG-13  125000000.0      2010.0                 1000.0   \n",
       "222              PG  130000000.0      2007.0                 2000.0   \n",
       "\n",
       "    imdb_score  aspect_ratio movie_facebook_likes  \n",
       "37         5.7          2.35                56000  \n",
       "122        5.9          2.35                 2000  \n",
       "174        5.5          2.35                65000  \n",
       "213        5.8          2.35                15000  \n",
       "222        5.6          2.35                    0  \n",
       "\n",
       "[5 rows x 28 columns]"
      ]
     },
     "execution_count": 16,
     "metadata": {},
     "output_type": "execute_result"
    }
   ],
   "source": [
    "df[df.imdb_score < 6][df.gross > df.budget].head()"
   ]
  },
  {
   "cell_type": "markdown",
   "metadata": {},
   "source": [
    "## If I’m a production studio exec and Tom Hanks is starring in my movie but I’m feeling uncertain about whether we should keep him (will he make as much money as we want?), tell me should I keep him in the movie or switch him out for Harrison Ford?"
   ]
  },
  {
   "cell_type": "code",
   "execution_count": 17,
   "metadata": {},
   "outputs": [
    {
     "data": {
      "text/plain": [
       "1.924857945754717"
      ]
     },
     "execution_count": 17,
     "metadata": {},
     "output_type": "execute_result"
    }
   ],
   "source": [
    "tom_hanks_gross = df[df.actor_1_name == 'Tom Hanks'].gross.mean()\n",
    "tom_hanks_gross / df[df.actor_1_name == 'Tom Hanks'].budget.mean()"
   ]
  },
  {
   "cell_type": "code",
   "execution_count": 18,
   "metadata": {},
   "outputs": [
    {
     "data": {
      "text/plain": [
       "2.8038465588723622"
      ]
     },
     "execution_count": 18,
     "metadata": {},
     "output_type": "execute_result"
    }
   ],
   "source": [
    "harrison_ford_earnings = df[df.actor_1_name == 'Harrison Ford'].gross.mean()\n",
    "harrison_ford_earnings / df[df.actor_1_name == 'Harrison Ford'].budget.mean()"
   ]
  },
  {
   "cell_type": "code",
   "execution_count": 19,
   "metadata": {},
   "outputs": [],
   "source": [
    "## harrison ford it is!"
   ]
  },
  {
   "cell_type": "markdown",
   "metadata": {},
   "source": [
    "## Same as above, but I’m judging on the ratings of the movie instead of the gross/budget."
   ]
  },
  {
   "cell_type": "code",
   "execution_count": 20,
   "metadata": {},
   "outputs": [
    {
     "data": {
      "text/plain": [
       "7.425000000000001"
      ]
     },
     "execution_count": 20,
     "metadata": {},
     "output_type": "execute_result"
    }
   ],
   "source": [
    "df[df.actor_1_name == 'Tom Hanks'].imdb_score.mean()"
   ]
  },
  {
   "cell_type": "code",
   "execution_count": 21,
   "metadata": {},
   "outputs": [
    {
     "data": {
      "text/plain": [
       "7.15925925925926"
      ]
     },
     "execution_count": 21,
     "metadata": {},
     "output_type": "execute_result"
    }
   ],
   "source": [
    "df[df.actor_1_name == 'Harrison Ford'].imdb_score.mean()"
   ]
  },
  {
   "cell_type": "markdown",
   "metadata": {},
   "source": [
    "## What’s the probability that a movie’s length will be between 1hr 10mins and 1h 30mins?"
   ]
  },
  {
   "cell_type": "code",
   "execution_count": 22,
   "metadata": {},
   "outputs": [
    {
     "name": "stderr",
     "output_type": "stream",
     "text": [
      "/Users/TBone/code_fellows/401/data-science/ENV/lib/python3.6/site-packages/ipykernel_launcher.py:1: UserWarning: Boolean Series key will be reindexed to match DataFrame index.\n",
      "  \"\"\"Entry point for launching an IPython kernel.\n"
     ]
    },
    {
     "data": {
      "text/plain": [
       "0.13245033112582782"
      ]
     },
     "execution_count": 22,
     "metadata": {},
     "output_type": "execute_result"
    }
   ],
   "source": [
    "df[df.duration > 70][df.duration < 90].duration.count() / df.duration.count()"
   ]
  },
  {
   "cell_type": "markdown",
   "metadata": {},
   "source": [
    "## How does the distribution of movie budgets compare to the movie gross values?"
   ]
  },
  {
   "cell_type": "code",
   "execution_count": 23,
   "metadata": {},
   "outputs": [
    {
     "data": {
      "text/plain": [
       "<matplotlib.axes._subplots.AxesSubplot at 0x11549acc0>"
      ]
     },
     "execution_count": 23,
     "metadata": {},
     "output_type": "execute_result"
    },
    {
     "data": {
      "image/png": "[encoded data removed]",
      "text/plain": [
       "<Figure size 432x288 with 1 Axes>"
      ]
     },
     "metadata": {},
     "output_type": "display_data"
    }
   ],
   "source": [
    "df[['budget', 'gross']].plot(x='budget', y='gross', kind='scatter')"
   ]
  },
  {
   "cell_type": "markdown",
   "metadata": {},
   "source": [
    "## Which genre trends toward the highest gross-to-budget ratio? You may have to do some extra parsing to answer this question.\n",
    "### Scott says we can skip this question"
   ]
  },
  {
   "cell_type": "code",
   "execution_count": 24,
   "metadata": {},
   "outputs": [
    {
     "data": {
      "text/plain": [
       "0                    [Action, Adventure, Fantasy, Sci-Fi]\n",
       "1                            [Action, Adventure, Fantasy]\n",
       "2                           [Action, Adventure, Thriller]\n",
       "3                                      [Action, Thriller]\n",
       "4                                           [Documentary]\n",
       "5                             [Action, Adventure, Sci-Fi]\n",
       "6                            [Action, Adventure, Romance]\n",
       "7       [Adventure, Animation, Comedy, Family, Fantasy...\n",
       "8                             [Action, Adventure, Sci-Fi]\n",
       "9                   [Adventure, Family, Fantasy, Mystery]\n",
       "10                            [Action, Adventure, Sci-Fi]\n",
       "11                            [Action, Adventure, Sci-Fi]\n",
       "12                                    [Action, Adventure]\n",
       "13                           [Action, Adventure, Fantasy]\n",
       "14                           [Action, Adventure, Western]\n",
       "15                   [Action, Adventure, Fantasy, Sci-Fi]\n",
       "16                   [Action, Adventure, Family, Fantasy]\n",
       "17                            [Action, Adventure, Sci-Fi]\n",
       "18                           [Action, Adventure, Fantasy]\n",
       "19      [Action, Adventure, Comedy, Family, Fantasy, S...\n",
       "20                                   [Adventure, Fantasy]\n",
       "21                           [Action, Adventure, Fantasy]\n",
       "22                    [Action, Adventure, Drama, History]\n",
       "23                                   [Adventure, Fantasy]\n",
       "24                           [Adventure, Family, Fantasy]\n",
       "25                    [Action, Adventure, Drama, Romance]\n",
       "26                                       [Drama, Romance]\n",
       "27                            [Action, Adventure, Sci-Fi]\n",
       "28                  [Action, Adventure, Sci-Fi, Thriller]\n",
       "29                  [Action, Adventure, Sci-Fi, Thriller]\n",
       "                              ...                        \n",
       "5013                                      [Drama, Family]\n",
       "5014                            [Action, Crime, Thriller]\n",
       "5015                                      [Comedy, Drama]\n",
       "5016                             [Crime, Drama, Thriller]\n",
       "5017                                    [Comedy, Romance]\n",
       "5018                                              [Drama]\n",
       "5019                          [Horror, Mystery, Thriller]\n",
       "5020                            [Drama, Horror, Thriller]\n",
       "5021                             [Comedy, Drama, Romance]\n",
       "5022                                              [Drama]\n",
       "5023                                            [Romance]\n",
       "5024                                   [Sci-Fi, Thriller]\n",
       "5025                              [Comedy, Crime, Horror]\n",
       "5026                              [Drama, Music, Romance]\n",
       "5027                                              [Drama]\n",
       "5028                                             [Horror]\n",
       "5029                   [Crime, Horror, Mystery, Thriller]\n",
       "5030                                              [Drama]\n",
       "5031                           [Comedy, Horror, Thriller]\n",
       "5032                                       [Crime, Drama]\n",
       "5033                            [Drama, Sci-Fi, Thriller]\n",
       "5034                                           [Thriller]\n",
       "5035            [Action, Crime, Drama, Romance, Thriller]\n",
       "5036                                       [Crime, Drama]\n",
       "5037                                      [Comedy, Drama]\n",
       "5038                                      [Comedy, Drama]\n",
       "5039                    [Crime, Drama, Mystery, Thriller]\n",
       "5040                            [Drama, Horror, Thriller]\n",
       "5041                             [Comedy, Drama, Romance]\n",
       "5042                                        [Documentary]\n",
       "Name: genres, Length: 4998, dtype: object"
      ]
     },
     "execution_count": 24,
     "metadata": {},
     "output_type": "execute_result"
    }
   ],
   "source": [
    "df.genres.apply(lambda x: x.split('|'))"
   ]
  },
  {
   "cell_type": "code",
   "execution_count": null,
   "metadata": {},
   "outputs": [],
   "source": []
  },
  {
   "cell_type": "markdown",
   "metadata": {},
   "source": [
    "## Nicolas Cage is known for starring in some pretty bad movies. Are his movies statistically significantly worse (i.e. in rating) than the rest of the IMDB 5000+?"
   ]
  },
  {
   "cell_type": "code",
   "execution_count": 25,
   "metadata": {},
   "outputs": [
    {
     "data": {
      "text/plain": [
       "6.2125"
      ]
     },
     "execution_count": 25,
     "metadata": {},
     "output_type": "execute_result"
    }
   ],
   "source": [
    "df[df.actor_1_name == 'Nicolas Cage'].imdb_score.mean()"
   ]
  },
  {
   "cell_type": "code",
   "execution_count": 26,
   "metadata": {},
   "outputs": [
    {
     "data": {
      "text/plain": [
       "6.441056422569028"
      ]
     },
     "execution_count": 26,
     "metadata": {},
     "output_type": "execute_result"
    }
   ],
   "source": [
    "df.imdb_score.mean()"
   ]
  },
  {
   "cell_type": "code",
   "execution_count": 27,
   "metadata": {},
   "outputs": [
    {
     "data": {
      "text/plain": [
       "1.1241072968122818"
      ]
     },
     "execution_count": 27,
     "metadata": {},
     "output_type": "execute_result"
    }
   ],
   "source": [
    "df.imdb_score.std()"
   ]
  },
  {
   "cell_type": "markdown",
   "metadata": {},
   "source": [
    "## No, his movies are only .23 points below the average, well within the 1.12 standard deviation."
   ]
  },
  {
   "cell_type": "code",
   "execution_count": 28,
   "metadata": {},
   "outputs": [
    {
     "data": {
      "text/plain": [
       "<matplotlib.axes._subplots.AxesSubplot at 0x1157014a8>"
      ]
     },
     "execution_count": 28,
     "metadata": {},
     "output_type": "execute_result"
    },
    {
     "data": {
      "image/png": "[encoded data removed]",
      "text/plain": [
       "<Figure size 432x288 with 1 Axes>"
      ]
     },
     "metadata": {},
     "output_type": "display_data"
    }
   ],
   "source": [
    "df[df.actor_1_name == 'Nicolas Cage'][['movie_title', 'imdb_score']].plot(x='movie_title', y='imdb_score', kind='bar')"
   ]
  },
  {
   "cell_type": "code",
   "execution_count": null,
   "metadata": {},
   "outputs": [],
   "source": []
  },
  {
   "cell_type": "markdown",
   "metadata": {},
   "source": [
    "## Have any years grossed a statistically-significant higher amount than the other years?"
   ]
  },
  {
   "cell_type": "code",
   "execution_count": 29,
   "metadata": {},
   "outputs": [
    {
     "data": {
      "text/plain": [
       "title_year\n",
       "2013.0    1.049929e+10\n",
       "2012.0    1.041541e+10\n",
       "2014.0    1.022056e+10\n",
       "2010.0    9.917119e+09\n",
       "2009.0    9.901023e+09\n",
       "Name: gross, dtype: float64"
      ]
     },
     "execution_count": 29,
     "metadata": {},
     "output_type": "execute_result"
    }
   ],
   "source": [
    "gross_yearly = df[['title_year', 'gross']].groupby('title_year')\n",
    "sum_gross = gross_yearly['gross'].sum()\n",
    "sum_gross.sort_values(ascending=False).head()"
   ]
  },
  {
   "cell_type": "code",
   "execution_count": 30,
   "metadata": {},
   "outputs": [
    {
     "data": {
      "text/plain": [
       "<matplotlib.axes._subplots.AxesSubplot at 0x1156fdf28>"
      ]
     },
     "execution_count": 30,
     "metadata": {},
     "output_type": "execute_result"
    },
    {
     "data": {
      "image/png": "[encoded data removed]",
      "text/plain": [
       "<Figure size 432x288 with 1 Axes>"
      ]
     },
     "metadata": {},
     "output_type": "display_data"
    }
   ],
   "source": [
    "gross_yearly['title_year'].sum().plot()"
   ]
  },
  {
   "cell_type": "code",
   "execution_count": 31,
   "metadata": {},
   "outputs": [],
   "source": [
    "# Yes, every year after 1995."
   ]
  },
  {
   "cell_type": "markdown",
   "metadata": {},
   "source": [
    "## Is there a country that seems to have a larger total budget for movies than any other?"
   ]
  },
  {
   "cell_type": "code",
   "execution_count": 32,
   "metadata": {},
   "outputs": [
    {
     "data": {
      "text/plain": [
       "<matplotlib.axes._subplots.AxesSubplot at 0x115863cc0>"
      ]
     },
     "execution_count": 32,
     "metadata": {},
     "output_type": "execute_result"
    },
    {
     "data": {
      "image/png": "[encoded data removed]",
      "text/plain": [
       "<Figure size 432x288 with 1 Axes>"
      ]
     },
     "metadata": {},
     "output_type": "display_data"
    }
   ],
   "source": [
    "df.plot(x='country', y='budget')"
   ]
  },
  {
   "cell_type": "code",
   "execution_count": null,
   "metadata": {},
   "outputs": [],
   "source": []
  }
 ],
 "metadata": {
  "kernelspec": {
   "display_name": "Python 3",
   "language": "python",
   "name": "python3"
  },
  "language_info": {
   "codemirror_mode": {
    "name": "ipython",
    "version": 3
   },
   "file_extension": ".py",
   "mimetype": "text/x-python",
   "name": "python",
   "nbconvert_exporter": "python",
   "pygments_lexer": "ipython3",
   "version": "3.6.4"
  }
 },
 "nbformat": 4,
 "nbformat_minor": 2
}
